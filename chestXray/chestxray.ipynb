{
 "cells": [
  {
   "cell_type": "code",
   "execution_count": 1,
   "metadata": {},
   "outputs": [
    {
     "name": "stderr",
     "output_type": "stream",
     "text": [
      "Using TensorFlow backend.\n"
     ]
    }
   ],
   "source": [
    "from keras.preprocessing.image import ImageDataGenerator, load_img\n",
    "from keras.models import Sequential\n",
    "from keras.layers import Conv2D, MaxPooling2D\n",
    "from keras.layers import Activation, Dropout, Flatten, Dense\n",
    "from keras import backend as K\n",
    "\n",
    "import os\n",
    "import numpy as np\n",
    "import pandas as np\n",
    "\n",
    "import matplotlib.pyplot as plt\n",
    "%matplotlib inline"
   ]
  },
  {
   "cell_type": "code",
   "execution_count": 2,
   "metadata": {},
   "outputs": [
    {
     "name": "stdout",
     "output_type": "stream",
     "text": [
      "['val', 'test', '.DS_Store', 'train']\n",
      "['PNEUMONIA', '.DS_Store', 'NORMAL']\n",
      "['PNEUMONIA', '.DS_Store', 'NORMAL']\n"
     ]
    }
   ],
   "source": [
    "\n",
    "print(os.listdir(\"Desktop/ml/chest_xray/chest_xray\"))\n",
    "\n",
    "print(os.listdir(\"Desktop/ml/chest_xray/chest_xray/train\"))\n",
    "\n",
    "print(os.listdir(\"Desktop/ml/chest_xray/chest_xray/test\"))"
   ]
  },
  {
   "cell_type": "code",
   "execution_count": 3,
   "metadata": {},
   "outputs": [],
   "source": [
    "train_data_dir = 'Desktop/ml/chest_xray/chest_xray/train'\n",
    "validation_data_dir = 'Desktop/ml/chest_xray/chest_xray/val'\n",
    "test_data_dir = 'Desktop/ml/chest_xray/chest_xray/test'"
   ]
  },
  {
   "cell_type": "code",
   "execution_count": 4,
   "metadata": {},
   "outputs": [],
   "source": [
    "img_width, img_height = 150, 150\n",
    "nb_train_samples = 5217\n",
    "nb_validation_samples = 17\n",
    "epochs = 20\n",
    "batch_size = 16"
   ]
  },
  {
   "cell_type": "code",
   "execution_count": 5,
   "metadata": {},
   "outputs": [],
   "source": [
    "if K.image_data_format() == 'channels_first':\n",
    "    input_shape = (3, img_width, img_height)\n",
    "else:\n",
    "    input_shape = (img_width, img_height, 3)"
   ]
  },
  {
   "cell_type": "code",
   "execution_count": 6,
   "metadata": {},
   "outputs": [],
   "source": [
    "model = Sequential()\n",
    "model.add(Conv2D(32, (3, 3), input_shape=input_shape))\n",
    "model.add(Activation('relu'))\n",
    "model.add(MaxPooling2D(pool_size=(2, 2)))\n",
    "\n",
    "model.add(Conv2D(32, (3, 3)))\n",
    "model.add(Activation('relu'))\n",
    "model.add(MaxPooling2D(pool_size=(2, 2)))\n",
    "\n",
    "model.add(Conv2D(64, (3, 3)))\n",
    "model.add(Activation('relu'))\n",
    "model.add(MaxPooling2D(pool_size=(2, 2)))\n",
    "\n",
    "model.add(Flatten())\n",
    "model.add(Dense(64))\n",
    "model.add(Activation('relu'))\n",
    "model.add(Dropout(0.5))\n",
    "model.add(Dense(1))\n",
    "model.add(Activation('sigmoid'))"
   ]
  },
  {
   "cell_type": "code",
   "execution_count": 7,
   "metadata": {},
   "outputs": [
    {
     "data": {
      "text/plain": [
       "<tf.Tensor 'conv2d_1_input:0' shape=(?, 150, 150, 3) dtype=float32>"
      ]
     },
     "execution_count": 7,
     "metadata": {},
     "output_type": "execute_result"
    }
   ],
   "source": [
    "model.input"
   ]
  },
  {
   "cell_type": "code",
   "execution_count": 8,
   "metadata": {},
   "outputs": [
    {
     "data": {
      "text/plain": [
       "<tf.Tensor 'activation_5/Sigmoid:0' shape=(?, 1) dtype=float32>"
      ]
     },
     "execution_count": 8,
     "metadata": {},
     "output_type": "execute_result"
    }
   ],
   "source": [
    "model.output"
   ]
  },
  {
   "cell_type": "code",
   "execution_count": 9,
   "metadata": {},
   "outputs": [],
   "source": [
    "model.compile(loss='binary_crossentropy',\n",
    "              optimizer='rmsprop',\n",
    "              metrics=['accuracy'])"
   ]
  },
  {
   "cell_type": "code",
   "execution_count": 10,
   "metadata": {},
   "outputs": [],
   "source": [
    "train_datagen = ImageDataGenerator(\n",
    "    rescale=1. / 255,\n",
    "    shear_range=0.2,\n",
    "    zoom_range=0.2,\n",
    "    horizontal_flip=True)"
   ]
  },
  {
   "cell_type": "code",
   "execution_count": 11,
   "metadata": {},
   "outputs": [],
   "source": [
    "test_datagen = ImageDataGenerator(rescale=1. / 255)"
   ]
  },
  {
   "cell_type": "code",
   "execution_count": 12,
   "metadata": {},
   "outputs": [
    {
     "name": "stdout",
     "output_type": "stream",
     "text": [
      "Found 5216 images belonging to 2 classes.\n"
     ]
    }
   ],
   "source": [
    "train_generator = train_datagen.flow_from_directory(\n",
    "    train_data_dir,\n",
    "    target_size=(img_width, img_height),\n",
    "    batch_size=batch_size,\n",
    "    class_mode='binary')"
   ]
  },
  {
   "cell_type": "code",
   "execution_count": 13,
   "metadata": {},
   "outputs": [
    {
     "name": "stdout",
     "output_type": "stream",
     "text": [
      "Found 16 images belonging to 2 classes.\n"
     ]
    }
   ],
   "source": [
    "validation_generator = test_datagen.flow_from_directory(\n",
    "    validation_data_dir,\n",
    "    target_size=(img_width, img_height),\n",
    "    batch_size=batch_size,\n",
    "    class_mode='binary')"
   ]
  },
  {
   "cell_type": "code",
   "execution_count": 14,
   "metadata": {},
   "outputs": [
    {
     "name": "stdout",
     "output_type": "stream",
     "text": [
      "Found 624 images belonging to 2 classes.\n"
     ]
    }
   ],
   "source": [
    "test_generator = test_datagen.flow_from_directory(\n",
    "    test_data_dir,\n",
    "    target_size=(img_width, img_height),\n",
    "    batch_size=batch_size,\n",
    "    class_mode='binary')"
   ]
  },
  {
   "cell_type": "code",
   "execution_count": 15,
   "metadata": {},
   "outputs": [],
   "source": [
    "from IPython.display import display\n",
    "from PIL import Image"
   ]
  },
  {
   "cell_type": "code",
   "execution_count": 16,
   "metadata": {},
   "outputs": [
    {
     "name": "stdout",
     "output_type": "stream",
     "text": [
      "Epoch 1/20\n",
      "326/326 [==============================] - 79s 241ms/step - loss: 0.3893 - acc: 0.8315 - val_loss: 0.5842 - val_acc: 0.8750\n",
      "Epoch 2/20\n",
      "326/326 [==============================] - 73s 223ms/step - loss: 0.2735 - acc: 0.8913 - val_loss: 0.5730 - val_acc: 0.8125\n",
      "Epoch 3/20\n",
      "326/326 [==============================] - 79s 243ms/step - loss: 0.2400 - acc: 0.9087 - val_loss: 1.0610 - val_acc: 0.6250\n",
      "Epoch 4/20\n",
      "326/326 [==============================] - 92s 282ms/step - loss: 0.2187 - acc: 0.9197 - val_loss: 1.1932 - val_acc: 0.6250\n",
      "Epoch 5/20\n",
      "326/326 [==============================] - 88s 269ms/step - loss: 0.2100 - acc: 0.9271 - val_loss: 2.0188 - val_acc: 0.6250\n",
      "Epoch 6/20\n",
      "326/326 [==============================] - 86s 264ms/step - loss: 0.1948 - acc: 0.9329 - val_loss: 0.5149 - val_acc: 0.7500\n",
      "Epoch 7/20\n",
      "326/326 [==============================] - 77s 237ms/step - loss: 0.1879 - acc: 0.9362 - val_loss: 1.0177 - val_acc: 0.6250\n",
      "Epoch 8/20\n",
      "326/326 [==============================] - 74s 226ms/step - loss: 0.1885 - acc: 0.9375 - val_loss: 0.4696 - val_acc: 0.8750\n",
      "Epoch 9/20\n",
      "326/326 [==============================] - 73s 225ms/step - loss: 0.1671 - acc: 0.9438 - val_loss: 0.8638 - val_acc: 0.6250\n",
      "Epoch 10/20\n",
      "326/326 [==============================] - 73s 225ms/step - loss: 0.1842 - acc: 0.9427 - val_loss: 0.5540 - val_acc: 0.8125\n",
      "Epoch 11/20\n",
      "326/326 [==============================] - 73s 225ms/step - loss: 0.1713 - acc: 0.9434 - val_loss: 2.2998 - val_acc: 0.6250\n",
      "Epoch 12/20\n",
      "326/326 [==============================] - 74s 226ms/step - loss: 0.1740 - acc: 0.9419 - val_loss: 0.8956 - val_acc: 0.7500\n",
      "Epoch 13/20\n",
      "326/326 [==============================] - 74s 226ms/step - loss: 0.1835 - acc: 0.9450 - val_loss: 0.7631 - val_acc: 0.7500\n",
      "Epoch 14/20\n",
      "326/326 [==============================] - 74s 226ms/step - loss: 0.1725 - acc: 0.9411 - val_loss: 0.8315 - val_acc: 0.6875\n",
      "Epoch 15/20\n",
      "326/326 [==============================] - 76s 234ms/step - loss: 0.1676 - acc: 0.9446 - val_loss: 0.8896 - val_acc: 0.5625\n",
      "Epoch 16/20\n",
      "326/326 [==============================] - 79s 242ms/step - loss: 0.1711 - acc: 0.9410 - val_loss: 1.4256 - val_acc: 0.5625\n",
      "Epoch 17/20\n",
      "326/326 [==============================] - 89s 273ms/step - loss: 0.1780 - acc: 0.9479 - val_loss: 0.7588 - val_acc: 0.6250\n",
      "Epoch 18/20\n",
      "326/326 [==============================] - 78s 240ms/step - loss: 0.2003 - acc: 0.9358 - val_loss: 2.0378 - val_acc: 0.5625\n",
      "Epoch 19/20\n",
      "326/326 [==============================] - 72s 221ms/step - loss: 0.1868 - acc: 0.9400 - val_loss: 0.5170 - val_acc: 0.8125\n",
      "Epoch 20/20\n",
      "326/326 [==============================] - 88s 269ms/step - loss: 0.1674 - acc: 0.9454 - val_loss: 1.5052 - val_acc: 0.5625\n"
     ]
    },
    {
     "data": {
      "text/plain": [
       "<keras.callbacks.History at 0x7f1604a2bdd8>"
      ]
     },
     "execution_count": 16,
     "metadata": {},
     "output_type": "execute_result"
    }
   ],
   "source": [
    "model.fit_generator(\n",
    "    train_generator,\n",
    "    steps_per_epoch=nb_train_samples // batch_size,\n",
    "    epochs=epochs,\n",
    "    validation_data=validation_generator,\n",
    "    validation_steps=nb_validation_samples // batch_size)"
   ]
  },
  {
   "cell_type": "code",
   "execution_count": 20,
   "metadata": {},
   "outputs": [],
   "source": [
    "model.save_weights('first_try.h5')\n"
   ]
  },
  {
   "cell_type": "code",
   "execution_count": null,
   "metadata": {},
   "outputs": [],
   "source": []
  }
 ],
 "metadata": {
  "kernelspec": {
   "display_name": "Python 3",
   "language": "python",
   "name": "python3"
  },
  "language_info": {
   "codemirror_mode": {
    "name": "ipython",
    "version": 3
   },
   "file_extension": ".py",
   "mimetype": "text/x-python",
   "name": "python",
   "nbconvert_exporter": "python",
   "pygments_lexer": "ipython3",
   "version": "3.6.8"
  }
 },
 "nbformat": 4,
 "nbformat_minor": 2
}
