{
 "cells": [
  {
   "cell_type": "code",
   "execution_count": 1,
   "metadata": {},
   "outputs": [],
   "source": [
    "import numpy as np\n",
    "import pandas as pd\n",
    "import matplotlib.pyplot as plt\n",
    "import seaborn as sns"
   ]
  },
  {
   "cell_type": "code",
   "execution_count": 2,
   "metadata": {},
   "outputs": [],
   "source": [
    "train = pd.read_csv('Desktop/ml/sign-language-mnist/sign_mnist_train.csv')\n",
    "test = pd.read_csv('Desktop/ml/sign-language-mnist/sign_mnist_test.csv')"
   ]
  },
  {
   "cell_type": "code",
   "execution_count": 3,
   "metadata": {},
   "outputs": [
    {
     "data": {
      "text/html": [
       "<div>\n",
       "<style scoped>\n",
       "    .dataframe tbody tr th:only-of-type {\n",
       "        vertical-align: middle;\n",
       "    }\n",
       "\n",
       "    .dataframe tbody tr th {\n",
       "        vertical-align: top;\n",
       "    }\n",
       "\n",
       "    .dataframe thead th {\n",
       "        text-align: right;\n",
       "    }\n",
       "</style>\n",
       "<table border=\"1\" class=\"dataframe\">\n",
       "  <thead>\n",
       "    <tr style=\"text-align: right;\">\n",
       "      <th></th>\n",
       "      <th>label</th>\n",
       "      <th>pixel1</th>\n",
       "      <th>pixel2</th>\n",
       "      <th>pixel3</th>\n",
       "      <th>pixel4</th>\n",
       "      <th>pixel5</th>\n",
       "      <th>pixel6</th>\n",
       "      <th>pixel7</th>\n",
       "      <th>pixel8</th>\n",
       "      <th>pixel9</th>\n",
       "      <th>...</th>\n",
       "      <th>pixel775</th>\n",
       "      <th>pixel776</th>\n",
       "      <th>pixel777</th>\n",
       "      <th>pixel778</th>\n",
       "      <th>pixel779</th>\n",
       "      <th>pixel780</th>\n",
       "      <th>pixel781</th>\n",
       "      <th>pixel782</th>\n",
       "      <th>pixel783</th>\n",
       "      <th>pixel784</th>\n",
       "    </tr>\n",
       "  </thead>\n",
       "  <tbody>\n",
       "    <tr>\n",
       "      <th>0</th>\n",
       "      <td>3</td>\n",
       "      <td>107</td>\n",
       "      <td>118</td>\n",
       "      <td>127</td>\n",
       "      <td>134</td>\n",
       "      <td>139</td>\n",
       "      <td>143</td>\n",
       "      <td>146</td>\n",
       "      <td>150</td>\n",
       "      <td>153</td>\n",
       "      <td>...</td>\n",
       "      <td>207</td>\n",
       "      <td>207</td>\n",
       "      <td>207</td>\n",
       "      <td>207</td>\n",
       "      <td>206</td>\n",
       "      <td>206</td>\n",
       "      <td>206</td>\n",
       "      <td>204</td>\n",
       "      <td>203</td>\n",
       "      <td>202</td>\n",
       "    </tr>\n",
       "    <tr>\n",
       "      <th>1</th>\n",
       "      <td>6</td>\n",
       "      <td>155</td>\n",
       "      <td>157</td>\n",
       "      <td>156</td>\n",
       "      <td>156</td>\n",
       "      <td>156</td>\n",
       "      <td>157</td>\n",
       "      <td>156</td>\n",
       "      <td>158</td>\n",
       "      <td>158</td>\n",
       "      <td>...</td>\n",
       "      <td>69</td>\n",
       "      <td>149</td>\n",
       "      <td>128</td>\n",
       "      <td>87</td>\n",
       "      <td>94</td>\n",
       "      <td>163</td>\n",
       "      <td>175</td>\n",
       "      <td>103</td>\n",
       "      <td>135</td>\n",
       "      <td>149</td>\n",
       "    </tr>\n",
       "    <tr>\n",
       "      <th>2</th>\n",
       "      <td>2</td>\n",
       "      <td>187</td>\n",
       "      <td>188</td>\n",
       "      <td>188</td>\n",
       "      <td>187</td>\n",
       "      <td>187</td>\n",
       "      <td>186</td>\n",
       "      <td>187</td>\n",
       "      <td>188</td>\n",
       "      <td>187</td>\n",
       "      <td>...</td>\n",
       "      <td>202</td>\n",
       "      <td>201</td>\n",
       "      <td>200</td>\n",
       "      <td>199</td>\n",
       "      <td>198</td>\n",
       "      <td>199</td>\n",
       "      <td>198</td>\n",
       "      <td>195</td>\n",
       "      <td>194</td>\n",
       "      <td>195</td>\n",
       "    </tr>\n",
       "    <tr>\n",
       "      <th>3</th>\n",
       "      <td>2</td>\n",
       "      <td>211</td>\n",
       "      <td>211</td>\n",
       "      <td>212</td>\n",
       "      <td>212</td>\n",
       "      <td>211</td>\n",
       "      <td>210</td>\n",
       "      <td>211</td>\n",
       "      <td>210</td>\n",
       "      <td>210</td>\n",
       "      <td>...</td>\n",
       "      <td>235</td>\n",
       "      <td>234</td>\n",
       "      <td>233</td>\n",
       "      <td>231</td>\n",
       "      <td>230</td>\n",
       "      <td>226</td>\n",
       "      <td>225</td>\n",
       "      <td>222</td>\n",
       "      <td>229</td>\n",
       "      <td>163</td>\n",
       "    </tr>\n",
       "    <tr>\n",
       "      <th>4</th>\n",
       "      <td>13</td>\n",
       "      <td>164</td>\n",
       "      <td>167</td>\n",
       "      <td>170</td>\n",
       "      <td>172</td>\n",
       "      <td>176</td>\n",
       "      <td>179</td>\n",
       "      <td>180</td>\n",
       "      <td>184</td>\n",
       "      <td>185</td>\n",
       "      <td>...</td>\n",
       "      <td>92</td>\n",
       "      <td>105</td>\n",
       "      <td>105</td>\n",
       "      <td>108</td>\n",
       "      <td>133</td>\n",
       "      <td>163</td>\n",
       "      <td>157</td>\n",
       "      <td>163</td>\n",
       "      <td>164</td>\n",
       "      <td>179</td>\n",
       "    </tr>\n",
       "  </tbody>\n",
       "</table>\n",
       "<p>5 rows × 785 columns</p>\n",
       "</div>"
      ],
      "text/plain": [
       "   label  pixel1  pixel2  pixel3  pixel4  pixel5  pixel6  pixel7  pixel8  \\\n",
       "0      3     107     118     127     134     139     143     146     150   \n",
       "1      6     155     157     156     156     156     157     156     158   \n",
       "2      2     187     188     188     187     187     186     187     188   \n",
       "3      2     211     211     212     212     211     210     211     210   \n",
       "4     13     164     167     170     172     176     179     180     184   \n",
       "\n",
       "   pixel9  ...  pixel775  pixel776  pixel777  pixel778  pixel779  pixel780  \\\n",
       "0     153  ...       207       207       207       207       206       206   \n",
       "1     158  ...        69       149       128        87        94       163   \n",
       "2     187  ...       202       201       200       199       198       199   \n",
       "3     210  ...       235       234       233       231       230       226   \n",
       "4     185  ...        92       105       105       108       133       163   \n",
       "\n",
       "   pixel781  pixel782  pixel783  pixel784  \n",
       "0       206       204       203       202  \n",
       "1       175       103       135       149  \n",
       "2       198       195       194       195  \n",
       "3       225       222       229       163  \n",
       "4       157       163       164       179  \n",
       "\n",
       "[5 rows x 785 columns]"
      ]
     },
     "execution_count": 3,
     "metadata": {},
     "output_type": "execute_result"
    }
   ],
   "source": [
    "train.head()"
   ]
  },
  {
   "cell_type": "code",
   "execution_count": 4,
   "metadata": {},
   "outputs": [
    {
     "data": {
      "text/plain": [
       "(27455, 785)"
      ]
     },
     "execution_count": 4,
     "metadata": {},
     "output_type": "execute_result"
    }
   ],
   "source": [
    "train.shape"
   ]
  },
  {
   "cell_type": "code",
   "execution_count": 5,
   "metadata": {},
   "outputs": [],
   "source": [
    "labels = train['label'].values\n"
   ]
  },
  {
   "cell_type": "code",
   "execution_count": 6,
   "metadata": {},
   "outputs": [
    {
     "data": {
      "text/plain": [
       "array([ 0,  1,  2,  3,  4,  5,  6,  7,  8, 10, 11, 12, 13, 14, 15, 16, 17,\n",
       "       18, 19, 20, 21, 22, 23, 24])"
      ]
     },
     "execution_count": 6,
     "metadata": {},
     "output_type": "execute_result"
    }
   ],
   "source": [
    "unique_val = np.array(labels)\n",
    "np.unique(unique_val)"
   ]
  },
  {
   "cell_type": "code",
   "execution_count": 7,
   "metadata": {},
   "outputs": [
    {
     "data": {
      "text/plain": [
       "<matplotlib.axes._subplots.AxesSubplot at 0x7f73122f26d8>"
      ]
     },
     "execution_count": 7,
     "metadata": {},
     "output_type": "execute_result"
    },
    {
     "data": {
      "image/png": "[encoded data removed]",
      "text/plain": [
       "<Figure size 1296x576 with 1 Axes>"
      ]
     },
     "metadata": {
      "needs_background": "light"
     },
     "output_type": "display_data"
    }
   ],
   "source": [
    "plt.figure(figsize = (18,8))\n",
    "sns.countplot(x =labels)"
   ]
  },
  {
   "cell_type": "code",
   "execution_count": 8,
   "metadata": {},
   "outputs": [],
   "source": [
    "train.drop('label', axis = 1, inplace = True)"
   ]
  },
  {
   "cell_type": "code",
   "execution_count": 9,
   "metadata": {},
   "outputs": [],
   "source": [
    "images = train.values\n",
    "images = np.array([np.reshape(i, (28, 28)) for i in images])\n",
    "images = np.array([i.flatten() for i in images])"
   ]
  },
  {
   "cell_type": "code",
   "execution_count": 10,
   "metadata": {},
   "outputs": [],
   "source": [
    "from sklearn.preprocessing import LabelBinarizer\n",
    "label_binrizer = LabelBinarizer()\n",
    "labels = label_binrizer.fit_transform(labels)"
   ]
  },
  {
   "cell_type": "code",
   "execution_count": 11,
   "metadata": {},
   "outputs": [
    {
     "data": {
      "text/plain": [
       "array([[0, 0, 0, ..., 0, 0, 0],\n",
       "       [0, 0, 0, ..., 0, 0, 0],\n",
       "       [0, 0, 1, ..., 0, 0, 0],\n",
       "       ...,\n",
       "       [0, 0, 0, ..., 0, 0, 0],\n",
       "       [0, 0, 0, ..., 0, 0, 0],\n",
       "       [0, 0, 0, ..., 0, 1, 0]])"
      ]
     },
     "execution_count": 11,
     "metadata": {},
     "output_type": "execute_result"
    }
   ],
   "source": [
    "labels"
   ]
  },
  {
   "cell_type": "code",
   "execution_count": 12,
   "metadata": {},
   "outputs": [
    {
     "data": {
      "text/plain": [
       "<matplotlib.image.AxesImage at 0x7f7311d4ac50>"
      ]
     },
     "execution_count": 12,
     "metadata": {},
     "output_type": "execute_result"
    },
    {
     "data": {
      "image/png": "[encoded data removed]",
      "text/plain": [
       "<Figure size 432x288 with 1 Axes>"
      ]
     },
     "metadata": {
      "needs_background": "light"
     },
     "output_type": "display_data"
    }
   ],
   "source": [
    "plt.imshow(images[0].reshape(28,28))"
   ]
  },
  {
   "cell_type": "code",
   "execution_count": 13,
   "metadata": {},
   "outputs": [],
   "source": [
    "from sklearn.model_selection import train_test_split"
   ]
  },
  {
   "cell_type": "code",
   "execution_count": 14,
   "metadata": {},
   "outputs": [],
   "source": [
    "x_train, x_test, y_train, y_test = train_test_split(images, labels, test_size = 0.3, random_state = 101)"
   ]
  },
  {
   "cell_type": "code",
   "execution_count": 15,
   "metadata": {},
   "outputs": [
    {
     "name": "stderr",
     "output_type": "stream",
     "text": [
      "Using TensorFlow backend.\n"
     ]
    }
   ],
   "source": [
    "import keras\n",
    "from keras.models import Sequential\n",
    "from keras.layers import Dense, Conv2D, MaxPooling2D, Flatten, Dropout"
   ]
  },
  {
   "cell_type": "code",
   "execution_count": 16,
   "metadata": {},
   "outputs": [],
   "source": [
    "batch_size = 128\n",
    "num_classes = 24\n",
    "epochs = 50"
   ]
  },
  {
   "cell_type": "code",
   "execution_count": 17,
   "metadata": {},
   "outputs": [],
   "source": [
    "x_train = x_train / 255\n",
    "x_test = x_test / 255"
   ]
  },
  {
   "cell_type": "code",
   "execution_count": 18,
   "metadata": {},
   "outputs": [],
   "source": [
    "x_train = x_train.reshape(x_train.shape[0], 28, 28, 1)"
   ]
  },
  {
   "cell_type": "code",
   "execution_count": 19,
   "metadata": {},
   "outputs": [],
   "source": [
    "x_test = x_test.reshape(x_test.shape[0], 28, 28, 1)"
   ]
  },
  {
   "cell_type": "code",
   "execution_count": 20,
   "metadata": {},
   "outputs": [
    {
     "data": {
      "text/plain": [
       "<matplotlib.image.AxesImage at 0x7f7314d15a58>"
      ]
     },
     "execution_count": 20,
     "metadata": {},
     "output_type": "execute_result"
    },
    {
     "data": {
      "image/png": "[encoded data removed]",
      "text/plain": [
       "<Figure size 432x288 with 1 Axes>"
      ]
     },
     "metadata": {
      "needs_background": "light"
     },
     "output_type": "display_data"
    }
   ],
   "source": [
    "plt.imshow(x_train[0].reshape(28,28))\n"
   ]
  },
  {
   "cell_type": "code",
   "execution_count": 21,
   "metadata": {},
   "outputs": [
    {
     "name": "stdout",
     "output_type": "stream",
     "text": [
      "_________________________________________________________________\n",
      "Layer (type)                 Output Shape              Param #   \n",
      "=================================================================\n",
      "conv2d_1 (Conv2D)            (None, 26, 26, 64)        640       \n",
      "_________________________________________________________________\n",
      "max_pooling2d_1 (MaxPooling2 (None, 13, 13, 64)        0         \n",
      "_________________________________________________________________\n",
      "conv2d_2 (Conv2D)            (None, 11, 11, 64)        36928     \n",
      "_________________________________________________________________\n",
      "max_pooling2d_2 (MaxPooling2 (None, 5, 5, 64)          0         \n",
      "_________________________________________________________________\n",
      "conv2d_3 (Conv2D)            (None, 3, 3, 64)          36928     \n",
      "_________________________________________________________________\n",
      "max_pooling2d_3 (MaxPooling2 (None, 1, 1, 64)          0         \n",
      "_________________________________________________________________\n",
      "flatten_1 (Flatten)          (None, 64)                0         \n",
      "_________________________________________________________________\n",
      "dense_1 (Dense)              (None, 128)               8320      \n",
      "_________________________________________________________________\n",
      "dropout_1 (Dropout)          (None, 128)               0         \n",
      "_________________________________________________________________\n",
      "dense_2 (Dense)              (None, 24)                3096      \n",
      "=================================================================\n",
      "Total params: 85,912\n",
      "Trainable params: 85,912\n",
      "Non-trainable params: 0\n",
      "_________________________________________________________________\n"
     ]
    }
   ],
   "source": [
    "model = Sequential()\n",
    "model.add(Conv2D(64, kernel_size=(3,3), activation = 'relu', input_shape=(28, 28 ,1) ))\n",
    "model.add(MaxPooling2D(pool_size = (2, 2)))\n",
    "\n",
    "model.add(Conv2D(64, kernel_size = (3, 3), activation = 'relu'))\n",
    "model.add(MaxPooling2D(pool_size = (2, 2)))\n",
    "\n",
    "model.add(Conv2D(64, kernel_size = (3, 3), activation = 'relu'))\n",
    "model.add(MaxPooling2D(pool_size = (2, 2)))\n",
    "\n",
    "model.add(Flatten())\n",
    "model.add(Dense(128, activation = 'relu'))\n",
    "model.add(Dropout(0.05))\n",
    "model.add(Dense(num_classes, activation = 'softmax'))\n",
    "model.summary()"
   ]
  },
  {
   "cell_type": "code",
   "execution_count": 22,
   "metadata": {},
   "outputs": [],
   "source": [
    "model.compile(loss = keras.losses.categorical_crossentropy, optimizer=keras.optimizers.Adam(),\n",
    "              metrics=['accuracy'])"
   ]
  },
  {
   "cell_type": "code",
   "execution_count": 23,
   "metadata": {},
   "outputs": [
    {
     "name": "stdout",
     "output_type": "stream",
     "text": [
      "Train on 19218 samples, validate on 8237 samples\n",
      "Epoch 1/50\n",
      "19218/19218 [==============================] - 6s 301us/step - loss: 2.5420 - acc: 0.2251 - val_loss: 1.6047 - val_acc: 0.4810\n",
      "Epoch 2/50\n",
      "19218/19218 [==============================] - 4s 202us/step - loss: 1.1295 - acc: 0.6287 - val_loss: 0.7445 - val_acc: 0.7557\n",
      "Epoch 3/50\n",
      "19218/19218 [==============================] - 4s 214us/step - loss: 0.6213 - acc: 0.7884 - val_loss: 0.4973 - val_acc: 0.8308\n",
      "Epoch 4/50\n",
      "19218/19218 [==============================] - 4s 210us/step - loss: 0.3787 - acc: 0.8743 - val_loss: 0.2452 - val_acc: 0.9236\n",
      "Epoch 5/50\n",
      "19218/19218 [==============================] - 4s 206us/step - loss: 0.2245 - acc: 0.9304 - val_loss: 0.1556 - val_acc: 0.9590\n",
      "Epoch 6/50\n",
      "19218/19218 [==============================] - 4s 215us/step - loss: 0.1389 - acc: 0.9577 - val_loss: 0.0891 - val_acc: 0.9773\n",
      "Epoch 7/50\n",
      "19218/19218 [==============================] - 4s 209us/step - loss: 0.0860 - acc: 0.9778 - val_loss: 0.0514 - val_acc: 0.9904\n",
      "Epoch 8/50\n",
      "19218/19218 [==============================] - 4s 212us/step - loss: 0.0538 - acc: 0.9875 - val_loss: 0.0247 - val_acc: 0.9982\n",
      "Epoch 9/50\n",
      "19218/19218 [==============================] - 4s 210us/step - loss: 0.0344 - acc: 0.9936 - val_loss: 0.0169 - val_acc: 0.9985\n",
      "Epoch 10/50\n",
      "19218/19218 [==============================] - 4s 208us/step - loss: 0.0242 - acc: 0.9950 - val_loss: 0.0125 - val_acc: 0.9993\n",
      "Epoch 11/50\n",
      "19218/19218 [==============================] - 4s 203us/step - loss: 0.0220 - acc: 0.9958 - val_loss: 0.0172 - val_acc: 0.9976\n",
      "Epoch 12/50\n",
      "19218/19218 [==============================] - 4s 203us/step - loss: 0.0161 - acc: 0.9975 - val_loss: 0.0060 - val_acc: 0.9998\n",
      "Epoch 13/50\n",
      "19218/19218 [==============================] - 4s 207us/step - loss: 0.0142 - acc: 0.9975 - val_loss: 0.0042 - val_acc: 1.0000\n",
      "Epoch 14/50\n",
      "19218/19218 [==============================] - 4s 203us/step - loss: 0.0108 - acc: 0.9982 - val_loss: 0.0054 - val_acc: 0.9995\n",
      "Epoch 15/50\n",
      "19218/19218 [==============================] - 4s 205us/step - loss: 0.0109 - acc: 0.9976 - val_loss: 0.0107 - val_acc: 0.9987\n",
      "Epoch 16/50\n",
      "19218/19218 [==============================] - 4s 209us/step - loss: 0.0234 - acc: 0.9936 - val_loss: 0.0022 - val_acc: 0.9999\n",
      "Epoch 17/50\n",
      "19218/19218 [==============================] - 4s 206us/step - loss: 0.0066 - acc: 0.9987 - val_loss: 0.0041 - val_acc: 0.9995\n",
      "Epoch 18/50\n",
      "19218/19218 [==============================] - 4s 209us/step - loss: 0.0092 - acc: 0.9981 - val_loss: 0.0020 - val_acc: 0.9999\n",
      "Epoch 19/50\n",
      "19218/19218 [==============================] - 4s 209us/step - loss: 0.0048 - acc: 0.9993 - val_loss: 0.0014 - val_acc: 0.9999\n",
      "Epoch 20/50\n",
      "19218/19218 [==============================] - 4s 210us/step - loss: 0.0085 - acc: 0.9980 - val_loss: 0.0292 - val_acc: 0.9900\n",
      "Epoch 21/50\n",
      "19218/19218 [==============================] - 4s 207us/step - loss: 0.0113 - acc: 0.9966 - val_loss: 8.7325e-04 - val_acc: 1.0000\n",
      "Epoch 22/50\n",
      "19218/19218 [==============================] - 4s 203us/step - loss: 0.0053 - acc: 0.9989 - val_loss: 8.1581e-04 - val_acc: 1.0000\n",
      "Epoch 23/50\n",
      "19218/19218 [==============================] - 4s 206us/step - loss: 0.0037 - acc: 0.9991 - val_loss: 0.0020 - val_acc: 0.9996\n",
      "Epoch 24/50\n",
      "19218/19218 [==============================] - 4s 206us/step - loss: 0.0082 - acc: 0.9978 - val_loss: 8.0251e-04 - val_acc: 1.0000\n",
      "Epoch 25/50\n",
      "19218/19218 [==============================] - 4s 206us/step - loss: 0.0035 - acc: 0.9994 - val_loss: 0.0013 - val_acc: 0.9999\n",
      "Epoch 26/50\n",
      "19218/19218 [==============================] - 4s 205us/step - loss: 0.0016 - acc: 0.9998 - val_loss: 3.4242e-04 - val_acc: 1.0000\n",
      "Epoch 27/50\n",
      "19218/19218 [==============================] - 4s 209us/step - loss: 0.0022 - acc: 0.9996 - val_loss: 0.0097 - val_acc: 0.9981\n",
      "Epoch 28/50\n",
      "19218/19218 [==============================] - 4s 211us/step - loss: 0.0194 - acc: 0.9937 - val_loss: 0.0086 - val_acc: 0.9977\n",
      "Epoch 29/50\n",
      "19218/19218 [==============================] - 4s 208us/step - loss: 0.0094 - acc: 0.9973 - val_loss: 0.0019 - val_acc: 0.9996\n",
      "Epoch 30/50\n",
      "19218/19218 [==============================] - 4s 212us/step - loss: 0.0013 - acc: 0.9998 - val_loss: 4.5202e-04 - val_acc: 0.9999\n",
      "Epoch 31/50\n",
      "19218/19218 [==============================] - 4s 206us/step - loss: 0.0078 - acc: 0.9978 - val_loss: 5.6748e-04 - val_acc: 0.9999\n",
      "Epoch 32/50\n",
      "19218/19218 [==============================] - 4s 213us/step - loss: 0.0021 - acc: 0.9994 - val_loss: 0.0017 - val_acc: 0.9999\n",
      "Epoch 33/50\n",
      "19218/19218 [==============================] - 4s 207us/step - loss: 0.0064 - acc: 0.9980 - val_loss: 0.0088 - val_acc: 0.9970\n",
      "Epoch 34/50\n",
      "19218/19218 [==============================] - 4s 210us/step - loss: 0.0098 - acc: 0.9974 - val_loss: 0.0022 - val_acc: 1.0000\n",
      "Epoch 35/50\n",
      "19218/19218 [==============================] - 4s 211us/step - loss: 0.0061 - acc: 0.9983 - val_loss: 4.0064e-04 - val_acc: 0.9999\n",
      "Epoch 36/50\n",
      "19218/19218 [==============================] - 4s 214us/step - loss: 7.2848e-04 - acc: 0.9999 - val_loss: 2.5949e-04 - val_acc: 1.0000\n",
      "Epoch 37/50\n",
      "19218/19218 [==============================] - 4s 212us/step - loss: 0.0010 - acc: 0.9997 - val_loss: 0.0031 - val_acc: 0.9994\n",
      "Epoch 38/50\n",
      "19218/19218 [==============================] - 4s 213us/step - loss: 0.0120 - acc: 0.9967 - val_loss: 0.0174 - val_acc: 0.9927\n",
      "Epoch 39/50\n",
      "19218/19218 [==============================] - 4s 215us/step - loss: 0.0046 - acc: 0.9988 - val_loss: 0.0019 - val_acc: 0.9996\n",
      "Epoch 40/50\n",
      "19218/19218 [==============================] - 4s 211us/step - loss: 0.0016 - acc: 0.9997 - val_loss: 1.9151e-04 - val_acc: 1.0000\n",
      "Epoch 41/50\n",
      "19218/19218 [==============================] - 4s 212us/step - loss: 5.9875e-04 - acc: 0.9999 - val_loss: 1.3663e-04 - val_acc: 1.0000\n",
      "Epoch 42/50\n",
      "19218/19218 [==============================] - 4s 211us/step - loss: 2.1934e-04 - acc: 1.0000 - val_loss: 6.8115e-05 - val_acc: 1.0000\n",
      "Epoch 43/50\n",
      "19218/19218 [==============================] - 4s 210us/step - loss: 1.3163e-04 - acc: 1.0000 - val_loss: 3.7547e-05 - val_acc: 1.0000\n",
      "Epoch 44/50\n",
      "19218/19218 [==============================] - 4s 214us/step - loss: 1.0150e-04 - acc: 1.0000 - val_loss: 3.9369e-05 - val_acc: 1.0000\n",
      "Epoch 45/50\n",
      "19218/19218 [==============================] - 4s 213us/step - loss: 1.7801e-04 - acc: 1.0000 - val_loss: 3.6734e-05 - val_acc: 1.0000\n",
      "Epoch 46/50\n",
      "19218/19218 [==============================] - 4s 213us/step - loss: 0.0072 - acc: 0.9980 - val_loss: 0.0046 - val_acc: 0.9985\n",
      "Epoch 47/50\n",
      "19218/19218 [==============================] - 4s 206us/step - loss: 0.0156 - acc: 0.9949 - val_loss: 0.0014 - val_acc: 0.9998\n",
      "Epoch 48/50\n",
      "19218/19218 [==============================] - 4s 211us/step - loss: 0.0012 - acc: 0.9998 - val_loss: 1.3954e-04 - val_acc: 1.0000\n",
      "Epoch 49/50\n",
      "19218/19218 [==============================] - 4s 212us/step - loss: 9.2472e-04 - acc: 0.9997 - val_loss: 4.0528e-04 - val_acc: 0.9999\n",
      "Epoch 50/50\n",
      "19218/19218 [==============================] - 4s 207us/step - loss: 0.0016 - acc: 0.9997 - val_loss: 1.6131e-04 - val_acc: 1.0000\n"
     ]
    }
   ],
   "source": [
    "history = model.fit(x_train, y_train, validation_data = (x_test, y_test), epochs=epochs, batch_size=batch_size)\n"
   ]
  },
  {
   "cell_type": "code",
   "execution_count": 24,
   "metadata": {},
   "outputs": [
    {
     "data": {
      "image/png": "[encoded data removed]",
      "text/plain": [
       "<Figure size 432x288 with 1 Axes>"
      ]
     },
     "metadata": {
      "needs_background": "light"
     },
     "output_type": "display_data"
    },
    {
     "data": {
      "image/png": "[encoded data removed]",
      "text/plain": [
       "<Figure size 432x288 with 1 Axes>"
      ]
     },
     "metadata": {
      "needs_background": "light"
     },
     "output_type": "display_data"
    }
   ],
   "source": [
    "plt.plot(history.history['acc'])\n",
    "plt.plot(history.history['val_acc'])\n",
    "plt.title(\"Accuracy\")\n",
    "plt.xlabel('epoch')\n",
    "plt.ylabel('accuracy')\n",
    "plt.legend(['train','test'])\n",
    "plt.show()\n",
    "plt.plot(history.history['loss'])\n",
    "plt.plot(history.history['val_loss'])\n",
    "plt.title('model loss')\n",
    "plt.ylabel('loss')\n",
    "plt.xlabel('epoch')\n",
    "plt.legend(['train', 'test'], loc='upper left')\n",
    "plt.show()"
   ]
  },
  {
   "cell_type": "code",
   "execution_count": 25,
   "metadata": {},
   "outputs": [],
   "source": [
    "test_labels = test['label']\n"
   ]
  },
  {
   "cell_type": "code",
   "execution_count": 26,
   "metadata": {},
   "outputs": [],
   "source": [
    "test.drop('label', axis = 1, inplace = True)"
   ]
  },
  {
   "cell_type": "code",
   "execution_count": 27,
   "metadata": {},
   "outputs": [],
   "source": [
    "test_images = test.values\n",
    "test_images = np.array([np.reshape(i, (28, 28)) for i in test_images])\n",
    "test_images = np.array([i.flatten() for i in test_images])"
   ]
  },
  {
   "cell_type": "code",
   "execution_count": 28,
   "metadata": {},
   "outputs": [],
   "source": [
    "test_labels = label_binrizer.fit_transform(test_labels)"
   ]
  },
  {
   "cell_type": "code",
   "execution_count": 29,
   "metadata": {},
   "outputs": [],
   "source": [
    "test_images = test_images.reshape(test_images.shape[0], 28, 28, 1)"
   ]
  },
  {
   "cell_type": "code",
   "execution_count": 30,
   "metadata": {},
   "outputs": [
    {
     "data": {
      "text/plain": [
       "(7172, 28, 28, 1)"
      ]
     },
     "execution_count": 30,
     "metadata": {},
     "output_type": "execute_result"
    }
   ],
   "source": [
    "test_images.shape"
   ]
  },
  {
   "cell_type": "code",
   "execution_count": 31,
   "metadata": {},
   "outputs": [],
   "source": [
    "y_pred = model.predict(test_images)"
   ]
  },
  {
   "cell_type": "code",
   "execution_count": 32,
   "metadata": {},
   "outputs": [
    {
     "data": {
      "text/plain": [
       "0.8789737869492471"
      ]
     },
     "execution_count": 32,
     "metadata": {},
     "output_type": "execute_result"
    }
   ],
   "source": [
    "from sklearn.metrics import accuracy_score\n",
    "accuracy_score(test_labels, y_pred.round())"
   ]
  },
  {
   "cell_type": "code",
   "execution_count": null,
   "metadata": {},
   "outputs": [],
   "source": []
  }
 ],
 "metadata": {
  "kernelspec": {
   "display_name": "Python 3",
   "language": "python",
   "name": "python3"
  },
  "language_info": {
   "codemirror_mode": {
    "name": "ipython",
    "version": 3
   },
   "file_extension": ".py",
   "mimetype": "text/x-python",
   "name": "python",
   "nbconvert_exporter": "python",
   "pygments_lexer": "ipython3",
   "version": "3.6.8"
  }
 },
 "nbformat": 4,
 "nbformat_minor": 2
}
